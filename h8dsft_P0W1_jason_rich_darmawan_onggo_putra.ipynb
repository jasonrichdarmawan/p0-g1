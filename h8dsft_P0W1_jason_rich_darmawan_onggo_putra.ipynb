{
 "cells": [
  {
   "cell_type": "markdown",
   "metadata": {},
   "source": [
    "**Using this template**\n",
    "\n",
    "1. Change notebook title to assignment title you working on, eg. `Graded Challenge 1 or Milestone 1`\n",
    "2. Put your identity such as name and batch number below notebook title.\n",
    "3. Write your description before do any work. State your purpose of this assignment and what you are trying to achieve. \n",
    "4. Look at the rubric of this assignment and make sure you understand the criteria.\n",
    "5. Code your solution in the cell provided below the working area section.\n",
    "6. State your conlusions, findings, and any other relevant information in the cell provided below the conclusions sections.\n",
    "7. Save this notebook and rename it to assignment title you working on  eg. `Graded Challenge 1 or Milestone 1`\n",
    "8. Push your assignment before deadline.\n",
    "9. Good Luck!"
   ]
  },
  {
   "cell_type": "markdown",
   "metadata": {},
   "source": [
    "# Graded Challenge 1\n",
    "\n",
    "1. Name: Jason Rich Darmawan Onggo Putra\n",
    "2. Batch: 016"
   ]
  },
  {
   "cell_type": "markdown",
   "metadata": {},
   "source": [
    "## Description\n",
    "\n",
    "### Objective\n",
    "\n",
    "Prove that Texas is recovering from the pandemic. If not, locate where is the source of new confirmed cases.\n",
    "\n",
    "### Problem Statement\n",
    "\n",
    "According to the summary table from the covid19_jhu_csse_eu database, is Texas recovering from the pandemic?\n",
    "recovering is represented by:\n",
    "1. decreasing growth of confirmed cases.\n",
    "2. decreasing growth of active cases.\n",
    "3. probablly (if pandas can do it), stagnant number of deaths and increasing number of recovered."
   ]
  },
  {
   "cell_type": "markdown",
   "metadata": {},
   "source": [
    "## Working Area"
   ]
  },
  {
   "cell_type": "code",
   "execution_count": 37,
   "metadata": {},
   "outputs": [],
   "source": [
    "import pandas as pd"
   ]
  },
  {
   "cell_type": "markdown",
   "metadata": {},
   "source": [
    "### Data Loading\n",
    "\n",
    "The raw data is from the [`bigquery-public-data` database](https://console.cloud.google.com/bigquery?p=bigquery-public-data&d=samples&page=dataset&_ga=2.245085957.1471931019.1642739417-486643658.1638156099).\n",
    "\n",
    "The query used for exporting the raw data:\n",
    "```\n",
    "SELECT * FROM bigquery-public-data.covid19_jhu_csse_eu.summary WHERE province_state = \"Texas\" AND country_region = \"US\";\n",
    "```"
   ]
  },
  {
   "cell_type": "code",
   "execution_count": 38,
   "metadata": {},
   "outputs": [],
   "source": [
    "df = pd.read_csv('bq-results-20221007-053508-1665120940189.csv')"
   ]
  },
  {
   "cell_type": "markdown",
   "metadata": {},
   "source": [
    "`df.head()` shows that columns `location_geom`, `fips`, `admin2` have unique values.\n",
    "\n",
    "**Questions** before Data Cleaning:\n",
    "- [x] Is columns `location_geom`, `fips`, `admin2` correlates? If yes, we can conclude that these columns are the source of data. **Assumption: Yes, with a note** [Answer](#is-columns-locationgeom-fips-admin2-correlates)\n",
    "- [x] Is columnn `date` have unique value for each source of data? If yes, then this table is a time-series data. **Assumption: Yes** [Answer](#is-columnn-date-have-unique-value-for-each-source-of-data-if-yes-then-this-table-is-a-time-series-data)\n",
    "- [x] Is columns `confirmed`, `deaths`, `recovered`, `active` are addition to the previous entry or the current value? If current value, then we can make a plot chart. **Assumption: Yes** [Answer](#is-columns-confirmed-deaths-recovered-active-are-addition-to-the-previous-entry-or-the-current-value-if-current-value-then-we-can-make-a-plot-chart)"
   ]
  },
  {
   "cell_type": "code",
   "execution_count": 39,
   "metadata": {},
   "outputs": [
    {
     "data": {
      "text/html": [
       "<div>\n",
       "<style scoped>\n",
       "    .dataframe tbody tr th:only-of-type {\n",
       "        vertical-align: middle;\n",
       "    }\n",
       "\n",
       "    .dataframe tbody tr th {\n",
       "        vertical-align: top;\n",
       "    }\n",
       "\n",
       "    .dataframe thead th {\n",
       "        text-align: right;\n",
       "    }\n",
       "</style>\n",
       "<table border=\"1\" class=\"dataframe\">\n",
       "  <thead>\n",
       "    <tr style=\"text-align: right;\">\n",
       "      <th></th>\n",
       "      <th>province_state</th>\n",
       "      <th>country_region</th>\n",
       "      <th>date</th>\n",
       "      <th>latitude</th>\n",
       "      <th>longitude</th>\n",
       "      <th>location_geom</th>\n",
       "      <th>confirmed</th>\n",
       "      <th>deaths</th>\n",
       "      <th>recovered</th>\n",
       "      <th>active</th>\n",
       "      <th>fips</th>\n",
       "      <th>admin2</th>\n",
       "      <th>combined_key</th>\n",
       "    </tr>\n",
       "  </thead>\n",
       "  <tbody>\n",
       "    <tr>\n",
       "      <th>0</th>\n",
       "      <td>Texas</td>\n",
       "      <td>US</td>\n",
       "      <td>2022-08-16</td>\n",
       "      <td>31.815347</td>\n",
       "      <td>-95.653548</td>\n",
       "      <td>POINT(-95.65354823 31.81534745)</td>\n",
       "      <td>10312</td>\n",
       "      <td>243</td>\n",
       "      <td>NaN</td>\n",
       "      <td>NaN</td>\n",
       "      <td>48001.0</td>\n",
       "      <td>Anderson</td>\n",
       "      <td>Anderson, Texas, US</td>\n",
       "    </tr>\n",
       "    <tr>\n",
       "      <th>1</th>\n",
       "      <td>Texas</td>\n",
       "      <td>US</td>\n",
       "      <td>2022-08-16</td>\n",
       "      <td>32.304686</td>\n",
       "      <td>-102.637655</td>\n",
       "      <td>POINT(-102.6376548 32.30468633)</td>\n",
       "      <td>4425</td>\n",
       "      <td>72</td>\n",
       "      <td>NaN</td>\n",
       "      <td>NaN</td>\n",
       "      <td>48003.0</td>\n",
       "      <td>Andrews</td>\n",
       "      <td>Andrews, Texas, US</td>\n",
       "    </tr>\n",
       "    <tr>\n",
       "      <th>2</th>\n",
       "      <td>Texas</td>\n",
       "      <td>US</td>\n",
       "      <td>2022-08-16</td>\n",
       "      <td>31.254573</td>\n",
       "      <td>-94.609015</td>\n",
       "      <td>POINT(-94.60901487 31.25457347)</td>\n",
       "      <td>16273</td>\n",
       "      <td>489</td>\n",
       "      <td>NaN</td>\n",
       "      <td>NaN</td>\n",
       "      <td>48005.0</td>\n",
       "      <td>Angelina</td>\n",
       "      <td>Angelina, Texas, US</td>\n",
       "    </tr>\n",
       "    <tr>\n",
       "      <th>3</th>\n",
       "      <td>Texas</td>\n",
       "      <td>US</td>\n",
       "      <td>2022-08-16</td>\n",
       "      <td>28.105562</td>\n",
       "      <td>-96.999505</td>\n",
       "      <td>POINT(-96.9995047 28.10556197)</td>\n",
       "      <td>4954</td>\n",
       "      <td>91</td>\n",
       "      <td>NaN</td>\n",
       "      <td>NaN</td>\n",
       "      <td>48007.0</td>\n",
       "      <td>Aransas</td>\n",
       "      <td>Aransas, Texas, US</td>\n",
       "    </tr>\n",
       "    <tr>\n",
       "      <th>4</th>\n",
       "      <td>Texas</td>\n",
       "      <td>US</td>\n",
       "      <td>2022-08-16</td>\n",
       "      <td>33.615700</td>\n",
       "      <td>-98.687546</td>\n",
       "      <td>POINT(-98.68754589 33.61569967)</td>\n",
       "      <td>2439</td>\n",
       "      <td>28</td>\n",
       "      <td>NaN</td>\n",
       "      <td>NaN</td>\n",
       "      <td>48009.0</td>\n",
       "      <td>Archer</td>\n",
       "      <td>Archer, Texas, US</td>\n",
       "    </tr>\n",
       "  </tbody>\n",
       "</table>\n",
       "</div>"
      ],
      "text/plain": [
       "  province_state country_region        date   latitude   longitude  \\\n",
       "0          Texas             US  2022-08-16  31.815347  -95.653548   \n",
       "1          Texas             US  2022-08-16  32.304686 -102.637655   \n",
       "2          Texas             US  2022-08-16  31.254573  -94.609015   \n",
       "3          Texas             US  2022-08-16  28.105562  -96.999505   \n",
       "4          Texas             US  2022-08-16  33.615700  -98.687546   \n",
       "\n",
       "                     location_geom  confirmed  deaths  recovered  active  \\\n",
       "0  POINT(-95.65354823 31.81534745)      10312     243        NaN     NaN   \n",
       "1  POINT(-102.6376548 32.30468633)       4425      72        NaN     NaN   \n",
       "2  POINT(-94.60901487 31.25457347)      16273     489        NaN     NaN   \n",
       "3   POINT(-96.9995047 28.10556197)       4954      91        NaN     NaN   \n",
       "4  POINT(-98.68754589 33.61569967)       2439      28        NaN     NaN   \n",
       "\n",
       "      fips    admin2         combined_key  \n",
       "0  48001.0  Anderson  Anderson, Texas, US  \n",
       "1  48003.0   Andrews   Andrews, Texas, US  \n",
       "2  48005.0  Angelina  Angelina, Texas, US  \n",
       "3  48007.0   Aransas   Aransas, Texas, US  \n",
       "4  48009.0    Archer    Archer, Texas, US  "
      ]
     },
     "metadata": {},
     "output_type": "display_data"
    },
    {
     "data": {
      "text/html": [
       "<div>\n",
       "<style scoped>\n",
       "    .dataframe tbody tr th:only-of-type {\n",
       "        vertical-align: middle;\n",
       "    }\n",
       "\n",
       "    .dataframe tbody tr th {\n",
       "        vertical-align: top;\n",
       "    }\n",
       "\n",
       "    .dataframe thead th {\n",
       "        text-align: right;\n",
       "    }\n",
       "</style>\n",
       "<table border=\"1\" class=\"dataframe\">\n",
       "  <thead>\n",
       "    <tr style=\"text-align: right;\">\n",
       "      <th></th>\n",
       "      <th>province_state</th>\n",
       "      <th>country_region</th>\n",
       "      <th>date</th>\n",
       "      <th>latitude</th>\n",
       "      <th>longitude</th>\n",
       "      <th>location_geom</th>\n",
       "      <th>confirmed</th>\n",
       "      <th>deaths</th>\n",
       "      <th>recovered</th>\n",
       "      <th>active</th>\n",
       "      <th>fips</th>\n",
       "      <th>admin2</th>\n",
       "      <th>combined_key</th>\n",
       "    </tr>\n",
       "  </thead>\n",
       "  <tbody>\n",
       "    <tr>\n",
       "      <th>233066</th>\n",
       "      <td>Texas</td>\n",
       "      <td>US</td>\n",
       "      <td>2020-04-15</td>\n",
       "      <td>30.579337</td>\n",
       "      <td>-95.162603</td>\n",
       "      <td>POINT(-95.16260304 30.57933681)</td>\n",
       "      <td>7</td>\n",
       "      <td>0</td>\n",
       "      <td>0.0</td>\n",
       "      <td>7.0</td>\n",
       "      <td>48407.0</td>\n",
       "      <td>San Jacinto</td>\n",
       "      <td>San Jacinto, Texas, US</td>\n",
       "    </tr>\n",
       "    <tr>\n",
       "      <th>233067</th>\n",
       "      <td>Texas</td>\n",
       "      <td>US</td>\n",
       "      <td>2020-04-15</td>\n",
       "      <td>28.008801</td>\n",
       "      <td>-97.517639</td>\n",
       "      <td>POINT(-97.51763891 28.00880118)</td>\n",
       "      <td>8</td>\n",
       "      <td>0</td>\n",
       "      <td>0.0</td>\n",
       "      <td>8.0</td>\n",
       "      <td>48409.0</td>\n",
       "      <td>San Patricio</td>\n",
       "      <td>San Patricio, Texas, US</td>\n",
       "    </tr>\n",
       "    <tr>\n",
       "      <th>233068</th>\n",
       "      <td>Texas</td>\n",
       "      <td>US</td>\n",
       "      <td>2020-04-15</td>\n",
       "      <td>32.746138</td>\n",
       "      <td>-100.916266</td>\n",
       "      <td>POINT(-100.9162664 32.74613808)</td>\n",
       "      <td>2</td>\n",
       "      <td>0</td>\n",
       "      <td>0.0</td>\n",
       "      <td>2.0</td>\n",
       "      <td>48415.0</td>\n",
       "      <td>Scurry</td>\n",
       "      <td>Scurry, Texas, US</td>\n",
       "    </tr>\n",
       "    <tr>\n",
       "      <th>233069</th>\n",
       "      <td>Texas</td>\n",
       "      <td>US</td>\n",
       "      <td>2020-04-15</td>\n",
       "      <td>31.792114</td>\n",
       "      <td>-94.145507</td>\n",
       "      <td>POINT(-94.14550696 31.79211404)</td>\n",
       "      <td>46</td>\n",
       "      <td>0</td>\n",
       "      <td>0.0</td>\n",
       "      <td>46.0</td>\n",
       "      <td>48419.0</td>\n",
       "      <td>Shelby</td>\n",
       "      <td>Shelby, Texas, US</td>\n",
       "    </tr>\n",
       "    <tr>\n",
       "      <th>233070</th>\n",
       "      <td>Texas</td>\n",
       "      <td>US</td>\n",
       "      <td>2020-04-15</td>\n",
       "      <td>32.374740</td>\n",
       "      <td>-95.271757</td>\n",
       "      <td>POINT(-95.2717568 32.37474036)</td>\n",
       "      <td>103</td>\n",
       "      <td>1</td>\n",
       "      <td>0.0</td>\n",
       "      <td>102.0</td>\n",
       "      <td>48423.0</td>\n",
       "      <td>Smith</td>\n",
       "      <td>Smith, Texas, US</td>\n",
       "    </tr>\n",
       "  </tbody>\n",
       "</table>\n",
       "</div>"
      ],
      "text/plain": [
       "       province_state country_region        date   latitude   longitude  \\\n",
       "233066          Texas             US  2020-04-15  30.579337  -95.162603   \n",
       "233067          Texas             US  2020-04-15  28.008801  -97.517639   \n",
       "233068          Texas             US  2020-04-15  32.746138 -100.916266   \n",
       "233069          Texas             US  2020-04-15  31.792114  -94.145507   \n",
       "233070          Texas             US  2020-04-15  32.374740  -95.271757   \n",
       "\n",
       "                          location_geom  confirmed  deaths  recovered  active  \\\n",
       "233066  POINT(-95.16260304 30.57933681)          7       0        0.0     7.0   \n",
       "233067  POINT(-97.51763891 28.00880118)          8       0        0.0     8.0   \n",
       "233068  POINT(-100.9162664 32.74613808)          2       0        0.0     2.0   \n",
       "233069  POINT(-94.14550696 31.79211404)         46       0        0.0    46.0   \n",
       "233070   POINT(-95.2717568 32.37474036)        103       1        0.0   102.0   \n",
       "\n",
       "           fips        admin2             combined_key  \n",
       "233066  48407.0   San Jacinto   San Jacinto, Texas, US  \n",
       "233067  48409.0  San Patricio  San Patricio, Texas, US  \n",
       "233068  48415.0        Scurry        Scurry, Texas, US  \n",
       "233069  48419.0        Shelby        Shelby, Texas, US  \n",
       "233070  48423.0         Smith         Smith, Texas, US  "
      ]
     },
     "metadata": {},
     "output_type": "display_data"
    }
   ],
   "source": [
    "display(df.head())\n",
    "display(df.tail())"
   ]
  },
  {
   "cell_type": "markdown",
   "metadata": {},
   "source": [
    "#### Is columns `location_geom`, `fips`, `admin2` correlates?\n",
    "\n",
    "**Yes**, it correlates:\n",
    "1. `df.groupby(['location_geom']).count()` results: 257 rowws\n",
    "2. `df.groupby(['fips']).count()` results: 255 rows\n",
    "3. `df.groupby(['admin2']).count()` results: 255 rows\n",
    "\n",
    "Note:\n",
    "1. `location_geom` have 2 extra rows. Probably due to the last digit difference. [Answer](#why-location_geom-have-232173-rows-while-fips-have-233057-rows-and-admin2-have-233059-rows)"
   ]
  },
  {
   "cell_type": "code",
   "execution_count": 40,
   "metadata": {},
   "outputs": [
    {
     "name": "stdout",
     "output_type": "stream",
     "text": [
      "group by location_geom: 257\n",
      "group by fips: 255\n",
      "group by admin2: 255\n"
     ]
    }
   ],
   "source": [
    "print('group by location_geom:', len(df.groupby(['location_geom']).count()))\n",
    "print('group by fips:', len(df.groupby(['fips']).count()))\n",
    "print('group by admin2:', len(df.groupby(['admin2']).count()))"
   ]
  },
  {
   "cell_type": "markdown",
   "metadata": {},
   "source": [
    "#### Is columnn `date` have unique value for each source of data? If yes, then this table is a time-series data.\n",
    "\n",
    "**Yes**, column `date` have unique value for each source of data:\n",
    "1. column `date` have many values.\n",
    "2. for column `fips` with value `48001.0`, each `date` value is unique."
   ]
  },
  {
   "cell_type": "code",
   "execution_count": 41,
   "metadata": {},
   "outputs": [
    {
     "data": {
      "text/plain": [
       "'column date have many values:'"
      ]
     },
     "metadata": {},
     "output_type": "display_data"
    },
    {
     "data": {
      "text/plain": [
       "118548    2020-03-22\n",
       "91105     2020-03-23\n",
       "214696    2020-03-24\n",
       "133191    2020-03-25\n",
       "15627     2020-03-26\n",
       "Name: date, dtype: object"
      ]
     },
     "metadata": {},
     "output_type": "display_data"
    }
   ],
   "source": [
    "# temp_ variable is just to shorten formula.\n",
    "temp_df = df.sort_values(['fips','date'])\n",
    "display(\"column date have many values:\", temp_df.loc[df[\"fips\"] == 48001.0, 'date'].head())\n",
    "%reset_selective -f \"^temp_df$\""
   ]
  },
  {
   "cell_type": "code",
   "execution_count": 42,
   "metadata": {},
   "outputs": [
    {
     "name": "stdout",
     "output_type": "stream",
     "text": [
      "for column `fips` with value `48001.0`, each date is unique: True\n"
     ]
    }
   ],
   "source": [
    "print(\"for column `fips` with value `48001.0`, each date is unique:\", \n",
    "    len(df[df[\"fips\"] == 48001.0].groupby(\"date\").count()) == \\\n",
    "    len(df[df[\"fips\"] == 48001.0].groupby(\"date\")[\"date\"].unique()))"
   ]
  },
  {
   "cell_type": "markdown",
   "metadata": {},
   "source": [
    "#### Is columns `confirmed`, `deaths`, `recovered`, `active` are addition to the previous entry or the current value? If current value, then we can make a plot chart.\n",
    "\n",
    "**Yes**, the column values represent the current value:\n",
    "1. The data below is sorted by the column `date`. Take a look at the columns `confirmed`, `deaths`, `recovered`, `active`. We can assume that the column values represent the current value, not the addition of the previous data."
   ]
  },
  {
   "cell_type": "code",
   "execution_count": 43,
   "metadata": {},
   "outputs": [
    {
     "data": {
      "text/html": [
       "<div>\n",
       "<style scoped>\n",
       "    .dataframe tbody tr th:only-of-type {\n",
       "        vertical-align: middle;\n",
       "    }\n",
       "\n",
       "    .dataframe tbody tr th {\n",
       "        vertical-align: top;\n",
       "    }\n",
       "\n",
       "    .dataframe thead th {\n",
       "        text-align: right;\n",
       "    }\n",
       "</style>\n",
       "<table border=\"1\" class=\"dataframe\">\n",
       "  <thead>\n",
       "    <tr style=\"text-align: right;\">\n",
       "      <th></th>\n",
       "      <th>province_state</th>\n",
       "      <th>country_region</th>\n",
       "      <th>date</th>\n",
       "      <th>latitude</th>\n",
       "      <th>longitude</th>\n",
       "      <th>location_geom</th>\n",
       "      <th>confirmed</th>\n",
       "      <th>deaths</th>\n",
       "      <th>recovered</th>\n",
       "      <th>active</th>\n",
       "      <th>fips</th>\n",
       "      <th>admin2</th>\n",
       "      <th>combined_key</th>\n",
       "    </tr>\n",
       "  </thead>\n",
       "  <tbody>\n",
       "    <tr>\n",
       "      <th>173370</th>\n",
       "      <td>Texas</td>\n",
       "      <td>US</td>\n",
       "      <td>2022-10-02</td>\n",
       "      <td>31.815347</td>\n",
       "      <td>-95.653548</td>\n",
       "      <td>POINT(-95.65354823 31.81534745)</td>\n",
       "      <td>10573</td>\n",
       "      <td>250</td>\n",
       "      <td>NaN</td>\n",
       "      <td>NaN</td>\n",
       "      <td>48001.0</td>\n",
       "      <td>Anderson</td>\n",
       "      <td>Anderson, Texas, US</td>\n",
       "    </tr>\n",
       "    <tr>\n",
       "      <th>27072</th>\n",
       "      <td>Texas</td>\n",
       "      <td>US</td>\n",
       "      <td>2022-10-03</td>\n",
       "      <td>31.815347</td>\n",
       "      <td>-95.653548</td>\n",
       "      <td>POINT(-95.65354823 31.81534745)</td>\n",
       "      <td>10577</td>\n",
       "      <td>251</td>\n",
       "      <td>NaN</td>\n",
       "      <td>NaN</td>\n",
       "      <td>48001.0</td>\n",
       "      <td>Anderson</td>\n",
       "      <td>Anderson, Texas, US</td>\n",
       "    </tr>\n",
       "    <tr>\n",
       "      <th>207283</th>\n",
       "      <td>Texas</td>\n",
       "      <td>US</td>\n",
       "      <td>2022-10-04</td>\n",
       "      <td>31.815347</td>\n",
       "      <td>-95.653548</td>\n",
       "      <td>POINT(-95.65354823 31.81534745)</td>\n",
       "      <td>10577</td>\n",
       "      <td>251</td>\n",
       "      <td>NaN</td>\n",
       "      <td>NaN</td>\n",
       "      <td>48001.0</td>\n",
       "      <td>Anderson</td>\n",
       "      <td>Anderson, Texas, US</td>\n",
       "    </tr>\n",
       "    <tr>\n",
       "      <th>220682</th>\n",
       "      <td>Texas</td>\n",
       "      <td>US</td>\n",
       "      <td>2022-10-05</td>\n",
       "      <td>31.815347</td>\n",
       "      <td>-95.653548</td>\n",
       "      <td>POINT(-95.65354823 31.81534745)</td>\n",
       "      <td>10580</td>\n",
       "      <td>251</td>\n",
       "      <td>NaN</td>\n",
       "      <td>NaN</td>\n",
       "      <td>48001.0</td>\n",
       "      <td>Anderson</td>\n",
       "      <td>Anderson, Texas, US</td>\n",
       "    </tr>\n",
       "    <tr>\n",
       "      <th>93370</th>\n",
       "      <td>Texas</td>\n",
       "      <td>US</td>\n",
       "      <td>2022-10-06</td>\n",
       "      <td>31.815347</td>\n",
       "      <td>-95.653548</td>\n",
       "      <td>POINT(-95.65354823 31.81534745)</td>\n",
       "      <td>10580</td>\n",
       "      <td>251</td>\n",
       "      <td>NaN</td>\n",
       "      <td>NaN</td>\n",
       "      <td>48001.0</td>\n",
       "      <td>Anderson</td>\n",
       "      <td>Anderson, Texas, US</td>\n",
       "    </tr>\n",
       "  </tbody>\n",
       "</table>\n",
       "</div>"
      ],
      "text/plain": [
       "       province_state country_region        date   latitude  longitude  \\\n",
       "173370          Texas             US  2022-10-02  31.815347 -95.653548   \n",
       "27072           Texas             US  2022-10-03  31.815347 -95.653548   \n",
       "207283          Texas             US  2022-10-04  31.815347 -95.653548   \n",
       "220682          Texas             US  2022-10-05  31.815347 -95.653548   \n",
       "93370           Texas             US  2022-10-06  31.815347 -95.653548   \n",
       "\n",
       "                          location_geom  confirmed  deaths  recovered  active  \\\n",
       "173370  POINT(-95.65354823 31.81534745)      10573     250        NaN     NaN   \n",
       "27072   POINT(-95.65354823 31.81534745)      10577     251        NaN     NaN   \n",
       "207283  POINT(-95.65354823 31.81534745)      10577     251        NaN     NaN   \n",
       "220682  POINT(-95.65354823 31.81534745)      10580     251        NaN     NaN   \n",
       "93370   POINT(-95.65354823 31.81534745)      10580     251        NaN     NaN   \n",
       "\n",
       "           fips    admin2         combined_key  \n",
       "173370  48001.0  Anderson  Anderson, Texas, US  \n",
       "27072   48001.0  Anderson  Anderson, Texas, US  \n",
       "207283  48001.0  Anderson  Anderson, Texas, US  \n",
       "220682  48001.0  Anderson  Anderson, Texas, US  \n",
       "93370   48001.0  Anderson  Anderson, Texas, US  "
      ]
     },
     "execution_count": 43,
     "metadata": {},
     "output_type": "execute_result"
    }
   ],
   "source": [
    "df[df[\"fips\"] == 48001.0].sort_values(['date']).tail()"
   ]
  },
  {
   "cell_type": "markdown",
   "metadata": {},
   "source": [
    "#### Which columns can be analyzed?\n",
    "\n",
    "1. No data source that fill the column `recovered`, some data source did fill the column recovered with value `0.0`, but at later date, the data source fill it with `NaN` value probably it is intentional.\n",
    "2. Many data soruce fill the columns `confirmed`, `deaths`, and `active`."
   ]
  },
  {
   "cell_type": "code",
   "execution_count": 44,
   "metadata": {},
   "outputs": [
    {
     "data": {
      "text/plain": [
       "'no data source that fill the column recovered'"
      ]
     },
     "metadata": {},
     "output_type": "display_data"
    },
    {
     "data": {
      "text/html": [
       "<div>\n",
       "<style scoped>\n",
       "    .dataframe tbody tr th:only-of-type {\n",
       "        vertical-align: middle;\n",
       "    }\n",
       "\n",
       "    .dataframe tbody tr th {\n",
       "        vertical-align: top;\n",
       "    }\n",
       "\n",
       "    .dataframe thead th {\n",
       "        text-align: right;\n",
       "    }\n",
       "</style>\n",
       "<table border=\"1\" class=\"dataframe\">\n",
       "  <thead>\n",
       "    <tr style=\"text-align: right;\">\n",
       "      <th></th>\n",
       "      <th>min</th>\n",
       "      <th>max</th>\n",
       "    </tr>\n",
       "    <tr>\n",
       "      <th>admin2</th>\n",
       "      <th></th>\n",
       "      <th></th>\n",
       "    </tr>\n",
       "  </thead>\n",
       "  <tbody>\n",
       "  </tbody>\n",
       "</table>\n",
       "</div>"
      ],
      "text/plain": [
       "Empty DataFrame\n",
       "Columns: [min, max]\n",
       "Index: []"
      ]
     },
     "metadata": {},
     "output_type": "display_data"
    },
    {
     "data": {
      "text/plain": [
       "'many data source fill the columns confirmed, deaths, active'"
      ]
     },
     "metadata": {},
     "output_type": "display_data"
    },
    {
     "data": {
      "text/html": [
       "<div>\n",
       "<style scoped>\n",
       "    .dataframe tbody tr th:only-of-type {\n",
       "        vertical-align: middle;\n",
       "    }\n",
       "\n",
       "    .dataframe tbody tr th {\n",
       "        vertical-align: top;\n",
       "    }\n",
       "\n",
       "    .dataframe thead tr th {\n",
       "        text-align: left;\n",
       "    }\n",
       "\n",
       "    .dataframe thead tr:last-of-type th {\n",
       "        text-align: right;\n",
       "    }\n",
       "</style>\n",
       "<table border=\"1\" class=\"dataframe\">\n",
       "  <thead>\n",
       "    <tr>\n",
       "      <th></th>\n",
       "      <th colspan=\"2\" halign=\"left\">confirmed</th>\n",
       "      <th colspan=\"2\" halign=\"left\">deaths</th>\n",
       "      <th colspan=\"2\" halign=\"left\">active</th>\n",
       "    </tr>\n",
       "    <tr>\n",
       "      <th></th>\n",
       "      <th>min</th>\n",
       "      <th>max</th>\n",
       "      <th>min</th>\n",
       "      <th>max</th>\n",
       "      <th>min</th>\n",
       "      <th>max</th>\n",
       "    </tr>\n",
       "    <tr>\n",
       "      <th>admin2</th>\n",
       "      <th></th>\n",
       "      <th></th>\n",
       "      <th></th>\n",
       "      <th></th>\n",
       "      <th></th>\n",
       "      <th></th>\n",
       "    </tr>\n",
       "  </thead>\n",
       "  <tbody>\n",
       "    <tr>\n",
       "      <th>Anderson</th>\n",
       "      <td>0</td>\n",
       "      <td>10580</td>\n",
       "      <td>0</td>\n",
       "      <td>251</td>\n",
       "      <td>0.0</td>\n",
       "      <td>5967.0</td>\n",
       "    </tr>\n",
       "    <tr>\n",
       "      <th>Andrews</th>\n",
       "      <td>0</td>\n",
       "      <td>4699</td>\n",
       "      <td>0</td>\n",
       "      <td>73</td>\n",
       "      <td>0.0</td>\n",
       "      <td>1649.0</td>\n",
       "    </tr>\n",
       "    <tr>\n",
       "      <th>Angelina</th>\n",
       "      <td>0</td>\n",
       "      <td>16580</td>\n",
       "      <td>0</td>\n",
       "      <td>495</td>\n",
       "      <td>0.0</td>\n",
       "      <td>7727.0</td>\n",
       "    </tr>\n",
       "    <tr>\n",
       "      <th>Aransas</th>\n",
       "      <td>0</td>\n",
       "      <td>5218</td>\n",
       "      <td>0</td>\n",
       "      <td>93</td>\n",
       "      <td>0.0</td>\n",
       "      <td>1114.0</td>\n",
       "    </tr>\n",
       "    <tr>\n",
       "      <th>Archer</th>\n",
       "      <td>0</td>\n",
       "      <td>2511</td>\n",
       "      <td>0</td>\n",
       "      <td>29</td>\n",
       "      <td>0.0</td>\n",
       "      <td>766.0</td>\n",
       "    </tr>\n",
       "    <tr>\n",
       "      <th>...</th>\n",
       "      <td>...</td>\n",
       "      <td>...</td>\n",
       "      <td>...</td>\n",
       "      <td>...</td>\n",
       "      <td>...</td>\n",
       "      <td>...</td>\n",
       "    </tr>\n",
       "    <tr>\n",
       "      <th>Wood</th>\n",
       "      <td>0</td>\n",
       "      <td>9169</td>\n",
       "      <td>0</td>\n",
       "      <td>299</td>\n",
       "      <td>0.0</td>\n",
       "      <td>3150.0</td>\n",
       "    </tr>\n",
       "    <tr>\n",
       "      <th>Yoakum</th>\n",
       "      <td>0</td>\n",
       "      <td>1631</td>\n",
       "      <td>0</td>\n",
       "      <td>42</td>\n",
       "      <td>0.0</td>\n",
       "      <td>838.0</td>\n",
       "    </tr>\n",
       "    <tr>\n",
       "      <th>Young</th>\n",
       "      <td>0</td>\n",
       "      <td>4309</td>\n",
       "      <td>0</td>\n",
       "      <td>96</td>\n",
       "      <td>0.0</td>\n",
       "      <td>2079.0</td>\n",
       "    </tr>\n",
       "    <tr>\n",
       "      <th>Zapata</th>\n",
       "      <td>0</td>\n",
       "      <td>4244</td>\n",
       "      <td>0</td>\n",
       "      <td>56</td>\n",
       "      <td>0.0</td>\n",
       "      <td>1712.0</td>\n",
       "    </tr>\n",
       "    <tr>\n",
       "      <th>Zavala</th>\n",
       "      <td>0</td>\n",
       "      <td>4406</td>\n",
       "      <td>0</td>\n",
       "      <td>70</td>\n",
       "      <td>0.0</td>\n",
       "      <td>1787.0</td>\n",
       "    </tr>\n",
       "  </tbody>\n",
       "</table>\n",
       "<p>255 rows × 6 columns</p>\n",
       "</div>"
      ],
      "text/plain": [
       "         confirmed        deaths      active        \n",
       "               min    max    min  max    min     max\n",
       "admin2                                              \n",
       "Anderson         0  10580      0  251    0.0  5967.0\n",
       "Andrews          0   4699      0   73    0.0  1649.0\n",
       "Angelina         0  16580      0  495    0.0  7727.0\n",
       "Aransas          0   5218      0   93    0.0  1114.0\n",
       "Archer           0   2511      0   29    0.0   766.0\n",
       "...            ...    ...    ...  ...    ...     ...\n",
       "Wood             0   9169      0  299    0.0  3150.0\n",
       "Yoakum           0   1631      0   42    0.0   838.0\n",
       "Young            0   4309      0   96    0.0  2079.0\n",
       "Zapata           0   4244      0   56    0.0  1712.0\n",
       "Zavala           0   4406      0   70    0.0  1787.0\n",
       "\n",
       "[255 rows x 6 columns]"
      ]
     },
     "metadata": {},
     "output_type": "display_data"
    }
   ],
   "source": [
    "display(\"no data source that fill the column recovered\", df.loc[df['recovered'] > 0].groupby('admin2')['recovered'].agg(['min', 'max']))\n",
    "display(\"many data source fill the columns confirmed, deaths, active\", df.groupby('admin2')[['confirmed', 'deaths', 'active']].agg(['min', 'max']))"
   ]
  },
  {
   "cell_type": "markdown",
   "metadata": {},
   "source": [
    "### Data Cleaning\n",
    "\n",
    "- [x] Why `location_geom` have 232,173 rows, while `fips` have 233,057 rows and `admin2` have 233,059 rows? **Summary: it's not a mistake, every row have at least one data source** [Answer](#why-location_geom-have-232173-rows-while-fips-have-233057-rows-and-admin2-have-233059-rows)"
   ]
  },
  {
   "cell_type": "code",
   "execution_count": 45,
   "metadata": {},
   "outputs": [
    {
     "name": "stdout",
     "output_type": "stream",
     "text": [
      "<class 'pandas.core.frame.DataFrame'>\n",
      "RangeIndex: 233071 entries, 0 to 233070\n",
      "Data columns (total 13 columns):\n",
      " #   Column          Non-Null Count   Dtype  \n",
      "---  ------          --------------   -----  \n",
      " 0   province_state  233071 non-null  object \n",
      " 1   country_region  233071 non-null  object \n",
      " 2   date            233071 non-null  object \n",
      " 3   latitude        232173 non-null  float64\n",
      " 4   longitude       232173 non-null  float64\n",
      " 5   location_geom   232173 non-null  object \n",
      " 6   confirmed       233071 non-null  int64  \n",
      " 7   deaths          233071 non-null  int64  \n",
      " 8   recovered       85426 non-null   float64\n",
      " 9   active          85414 non-null   float64\n",
      " 10  fips            233057 non-null  float64\n",
      " 11  admin2          233059 non-null  object \n",
      " 12  combined_key    233059 non-null  object \n",
      "dtypes: float64(5), int64(2), object(6)\n",
      "memory usage: 23.1+ MB\n"
     ]
    }
   ],
   "source": [
    "df.info()"
   ]
  },
  {
   "cell_type": "markdown",
   "metadata": {},
   "source": [
    "#### Why `location_geom` have 232,173 rows, while `fips` have 233,057 rows and `admin2` have 233,059 rows?\n",
    "\n",
    "**It's not a mistake**, every row have at least one source of data.\n",
    "1. Code below shows that there is no rows with unknown data source. So, we will not drop rows because of unknown data source."
   ]
  },
  {
   "cell_type": "code",
   "execution_count": 46,
   "metadata": {},
   "outputs": [
    {
     "name": "stdout",
     "output_type": "stream",
     "text": [
      "no row with unkown source data True\n"
     ]
    },
    {
     "data": {
      "text/plain": [
       "'`location_geom` and `fips` are NaN'"
      ]
     },
     "metadata": {},
     "output_type": "display_data"
    },
    {
     "data": {
      "text/html": [
       "<div>\n",
       "<style scoped>\n",
       "    .dataframe tbody tr th:only-of-type {\n",
       "        vertical-align: middle;\n",
       "    }\n",
       "\n",
       "    .dataframe tbody tr th {\n",
       "        vertical-align: top;\n",
       "    }\n",
       "\n",
       "    .dataframe thead th {\n",
       "        text-align: right;\n",
       "    }\n",
       "</style>\n",
       "<table border=\"1\" class=\"dataframe\">\n",
       "  <thead>\n",
       "    <tr style=\"text-align: right;\">\n",
       "      <th></th>\n",
       "      <th>province_state</th>\n",
       "      <th>country_region</th>\n",
       "      <th>date</th>\n",
       "      <th>latitude</th>\n",
       "      <th>longitude</th>\n",
       "      <th>location_geom</th>\n",
       "      <th>confirmed</th>\n",
       "      <th>deaths</th>\n",
       "      <th>recovered</th>\n",
       "      <th>active</th>\n",
       "      <th>fips</th>\n",
       "      <th>admin2</th>\n",
       "      <th>combined_key</th>\n",
       "    </tr>\n",
       "  </thead>\n",
       "  <tbody>\n",
       "    <tr>\n",
       "      <th>227043</th>\n",
       "      <td>Texas</td>\n",
       "      <td>US</td>\n",
       "      <td>2020-03-31</td>\n",
       "      <td>NaN</td>\n",
       "      <td>NaN</td>\n",
       "      <td>NaN</td>\n",
       "      <td>680</td>\n",
       "      <td>6</td>\n",
       "      <td>0.0</td>\n",
       "      <td>0.0</td>\n",
       "      <td>NaN</td>\n",
       "      <td>Harris</td>\n",
       "      <td>Harris,Texas,US</td>\n",
       "    </tr>\n",
       "  </tbody>\n",
       "</table>\n",
       "</div>"
      ],
      "text/plain": [
       "       province_state country_region        date  latitude  longitude  \\\n",
       "227043          Texas             US  2020-03-31       NaN        NaN   \n",
       "\n",
       "       location_geom  confirmed  deaths  recovered  active  fips  admin2  \\\n",
       "227043           NaN        680       6        0.0     0.0   NaN  Harris   \n",
       "\n",
       "           combined_key  \n",
       "227043  Harris,Texas,US  "
      ]
     },
     "metadata": {},
     "output_type": "display_data"
    },
    {
     "data": {
      "text/plain": [
       "'`fips` and `admin2` are NaN'"
      ]
     },
     "metadata": {},
     "output_type": "display_data"
    },
    {
     "data": {
      "text/html": [
       "<div>\n",
       "<style scoped>\n",
       "    .dataframe tbody tr th:only-of-type {\n",
       "        vertical-align: middle;\n",
       "    }\n",
       "\n",
       "    .dataframe tbody tr th {\n",
       "        vertical-align: top;\n",
       "    }\n",
       "\n",
       "    .dataframe thead th {\n",
       "        text-align: right;\n",
       "    }\n",
       "</style>\n",
       "<table border=\"1\" class=\"dataframe\">\n",
       "  <thead>\n",
       "    <tr style=\"text-align: right;\">\n",
       "      <th></th>\n",
       "      <th>province_state</th>\n",
       "      <th>country_region</th>\n",
       "      <th>date</th>\n",
       "      <th>latitude</th>\n",
       "      <th>longitude</th>\n",
       "      <th>confirmed</th>\n",
       "      <th>deaths</th>\n",
       "      <th>recovered</th>\n",
       "      <th>active</th>\n",
       "      <th>fips</th>\n",
       "      <th>admin2</th>\n",
       "      <th>combined_key</th>\n",
       "    </tr>\n",
       "    <tr>\n",
       "      <th>location_geom</th>\n",
       "      <th></th>\n",
       "      <th></th>\n",
       "      <th></th>\n",
       "      <th></th>\n",
       "      <th></th>\n",
       "      <th></th>\n",
       "      <th></th>\n",
       "      <th></th>\n",
       "      <th></th>\n",
       "      <th></th>\n",
       "      <th></th>\n",
       "      <th></th>\n",
       "    </tr>\n",
       "  </thead>\n",
       "  <tbody>\n",
       "    <tr>\n",
       "      <th>POINT(-97.563461 31.054487)</th>\n",
       "      <td>1</td>\n",
       "      <td>1</td>\n",
       "      <td>1</td>\n",
       "      <td>1</td>\n",
       "      <td>1</td>\n",
       "      <td>1</td>\n",
       "      <td>1</td>\n",
       "      <td>1</td>\n",
       "      <td>0</td>\n",
       "      <td>0</td>\n",
       "      <td>0</td>\n",
       "      <td>0</td>\n",
       "    </tr>\n",
       "    <tr>\n",
       "      <th>POINT(-97.5635 31.0545)</th>\n",
       "      <td>11</td>\n",
       "      <td>11</td>\n",
       "      <td>11</td>\n",
       "      <td>11</td>\n",
       "      <td>11</td>\n",
       "      <td>11</td>\n",
       "      <td>11</td>\n",
       "      <td>11</td>\n",
       "      <td>0</td>\n",
       "      <td>0</td>\n",
       "      <td>0</td>\n",
       "      <td>0</td>\n",
       "    </tr>\n",
       "  </tbody>\n",
       "</table>\n",
       "</div>"
      ],
      "text/plain": [
       "                             province_state  country_region  date  latitude  \\\n",
       "location_geom                                                                 \n",
       "POINT(-97.563461 31.054487)               1               1     1         1   \n",
       "POINT(-97.5635 31.0545)                  11              11    11        11   \n",
       "\n",
       "                             longitude  confirmed  deaths  recovered  active  \\\n",
       "location_geom                                                                  \n",
       "POINT(-97.563461 31.054487)          1          1       1          1       0   \n",
       "POINT(-97.5635 31.0545)             11         11      11         11       0   \n",
       "\n",
       "                             fips  admin2  combined_key  \n",
       "location_geom                                            \n",
       "POINT(-97.563461 31.054487)     0       0             0  \n",
       "POINT(-97.5635 31.0545)         0       0             0  "
      ]
     },
     "metadata": {},
     "output_type": "display_data"
    }
   ],
   "source": [
    "print(\"no row with unkown source data\",\n",
    "    len(df[df['location_geom'].isna() & df['fips'].isna() & df['admin2'].isna()]) == 0)\n",
    "\n",
    "# 1 row with column `admin2` as the only data source.\n",
    "# None have other form of data source. There is nothing we can do.\n",
    "display(\"`location_geom` and `fips` are NaN\",df[df['location_geom'].isna() & df['fips'].isna()])\n",
    "\n",
    "# 12 rows with column `location_geom` as the only data source.\n",
    "# None have other form of data source. There is nothing we can do.\n",
    "display(\"`fips` and `admin2` are NaN\",\n",
    "    df[df['fips'].isna() & df['admin2'].isna()].groupby('location_geom').count())"
   ]
  },
  {
   "cell_type": "markdown",
   "metadata": {},
   "source": [
    "#### Min, max of columns `confirmed`, `deaths`, `recovered`, `active` of each data source.\n",
    "\n",
    "1. With the `min` and `max` value of column `recovered`, it is shown that no data source fill out the column `recovered`. We will investigate later."
   ]
  },
  {
   "cell_type": "code",
   "execution_count": 47,
   "metadata": {},
   "outputs": [
    {
     "data": {
      "text/html": [
       "<div>\n",
       "<style scoped>\n",
       "    .dataframe tbody tr th:only-of-type {\n",
       "        vertical-align: middle;\n",
       "    }\n",
       "\n",
       "    .dataframe tbody tr th {\n",
       "        vertical-align: top;\n",
       "    }\n",
       "\n",
       "    .dataframe thead tr th {\n",
       "        text-align: left;\n",
       "    }\n",
       "\n",
       "    .dataframe thead tr:last-of-type th {\n",
       "        text-align: right;\n",
       "    }\n",
       "</style>\n",
       "<table border=\"1\" class=\"dataframe\">\n",
       "  <thead>\n",
       "    <tr>\n",
       "      <th></th>\n",
       "      <th></th>\n",
       "      <th></th>\n",
       "      <th colspan=\"2\" halign=\"left\">confirmed</th>\n",
       "      <th colspan=\"2\" halign=\"left\">deaths</th>\n",
       "      <th colspan=\"2\" halign=\"left\">recovered</th>\n",
       "      <th colspan=\"2\" halign=\"left\">active</th>\n",
       "    </tr>\n",
       "    <tr>\n",
       "      <th></th>\n",
       "      <th></th>\n",
       "      <th></th>\n",
       "      <th>min</th>\n",
       "      <th>max</th>\n",
       "      <th>min</th>\n",
       "      <th>max</th>\n",
       "      <th>min</th>\n",
       "      <th>max</th>\n",
       "      <th>min</th>\n",
       "      <th>max</th>\n",
       "    </tr>\n",
       "    <tr>\n",
       "      <th>admin2</th>\n",
       "      <th>fips</th>\n",
       "      <th>location_geom</th>\n",
       "      <th></th>\n",
       "      <th></th>\n",
       "      <th></th>\n",
       "      <th></th>\n",
       "      <th></th>\n",
       "      <th></th>\n",
       "      <th></th>\n",
       "      <th></th>\n",
       "    </tr>\n",
       "  </thead>\n",
       "  <tbody>\n",
       "    <tr>\n",
       "      <th>Anderson</th>\n",
       "      <th>48001.0</th>\n",
       "      <th>POINT(-95.65354823 31.81534745)</th>\n",
       "      <td>0</td>\n",
       "      <td>10580</td>\n",
       "      <td>0</td>\n",
       "      <td>251</td>\n",
       "      <td>0.0</td>\n",
       "      <td>0.0</td>\n",
       "      <td>0.0</td>\n",
       "      <td>5967.0</td>\n",
       "    </tr>\n",
       "    <tr>\n",
       "      <th>Andrews</th>\n",
       "      <th>48003.0</th>\n",
       "      <th>POINT(-102.6376548 32.30468633)</th>\n",
       "      <td>0</td>\n",
       "      <td>4699</td>\n",
       "      <td>0</td>\n",
       "      <td>73</td>\n",
       "      <td>0.0</td>\n",
       "      <td>0.0</td>\n",
       "      <td>0.0</td>\n",
       "      <td>1649.0</td>\n",
       "    </tr>\n",
       "    <tr>\n",
       "      <th>Angelina</th>\n",
       "      <th>48005.0</th>\n",
       "      <th>POINT(-94.60901487 31.25457347)</th>\n",
       "      <td>0</td>\n",
       "      <td>16580</td>\n",
       "      <td>0</td>\n",
       "      <td>495</td>\n",
       "      <td>0.0</td>\n",
       "      <td>0.0</td>\n",
       "      <td>0.0</td>\n",
       "      <td>7727.0</td>\n",
       "    </tr>\n",
       "    <tr>\n",
       "      <th>Aransas</th>\n",
       "      <th>48007.0</th>\n",
       "      <th>POINT(-96.9995047 28.10556197)</th>\n",
       "      <td>0</td>\n",
       "      <td>5218</td>\n",
       "      <td>0</td>\n",
       "      <td>93</td>\n",
       "      <td>0.0</td>\n",
       "      <td>0.0</td>\n",
       "      <td>0.0</td>\n",
       "      <td>1114.0</td>\n",
       "    </tr>\n",
       "    <tr>\n",
       "      <th>Archer</th>\n",
       "      <th>48009.0</th>\n",
       "      <th>POINT(-98.68754589 33.61569967)</th>\n",
       "      <td>0</td>\n",
       "      <td>2511</td>\n",
       "      <td>0</td>\n",
       "      <td>29</td>\n",
       "      <td>0.0</td>\n",
       "      <td>0.0</td>\n",
       "      <td>0.0</td>\n",
       "      <td>766.0</td>\n",
       "    </tr>\n",
       "    <tr>\n",
       "      <th>...</th>\n",
       "      <th>...</th>\n",
       "      <th>...</th>\n",
       "      <td>...</td>\n",
       "      <td>...</td>\n",
       "      <td>...</td>\n",
       "      <td>...</td>\n",
       "      <td>...</td>\n",
       "      <td>...</td>\n",
       "      <td>...</td>\n",
       "      <td>...</td>\n",
       "    </tr>\n",
       "    <tr>\n",
       "      <th>Wood</th>\n",
       "      <th>48499.0</th>\n",
       "      <th>POINT(-95.38236368 32.78722382)</th>\n",
       "      <td>0</td>\n",
       "      <td>9169</td>\n",
       "      <td>0</td>\n",
       "      <td>299</td>\n",
       "      <td>0.0</td>\n",
       "      <td>0.0</td>\n",
       "      <td>0.0</td>\n",
       "      <td>3150.0</td>\n",
       "    </tr>\n",
       "    <tr>\n",
       "      <th>Yoakum</th>\n",
       "      <th>48501.0</th>\n",
       "      <th>POINT(-102.8276433 33.17320212)</th>\n",
       "      <td>0</td>\n",
       "      <td>1631</td>\n",
       "      <td>0</td>\n",
       "      <td>42</td>\n",
       "      <td>0.0</td>\n",
       "      <td>0.0</td>\n",
       "      <td>0.0</td>\n",
       "      <td>838.0</td>\n",
       "    </tr>\n",
       "    <tr>\n",
       "      <th>Young</th>\n",
       "      <th>48503.0</th>\n",
       "      <th>POINT(-98.68790885 33.17659707)</th>\n",
       "      <td>0</td>\n",
       "      <td>4309</td>\n",
       "      <td>0</td>\n",
       "      <td>96</td>\n",
       "      <td>0.0</td>\n",
       "      <td>0.0</td>\n",
       "      <td>0.0</td>\n",
       "      <td>2079.0</td>\n",
       "    </tr>\n",
       "    <tr>\n",
       "      <th>Zapata</th>\n",
       "      <th>48505.0</th>\n",
       "      <th>POINT(-99.16987152 27.00156391)</th>\n",
       "      <td>0</td>\n",
       "      <td>4244</td>\n",
       "      <td>0</td>\n",
       "      <td>56</td>\n",
       "      <td>0.0</td>\n",
       "      <td>0.0</td>\n",
       "      <td>0.0</td>\n",
       "      <td>1712.0</td>\n",
       "    </tr>\n",
       "    <tr>\n",
       "      <th>Zavala</th>\n",
       "      <th>48507.0</th>\n",
       "      <th>POINT(-99.76050829 28.86617238)</th>\n",
       "      <td>0</td>\n",
       "      <td>4406</td>\n",
       "      <td>0</td>\n",
       "      <td>70</td>\n",
       "      <td>0.0</td>\n",
       "      <td>0.0</td>\n",
       "      <td>0.0</td>\n",
       "      <td>1787.0</td>\n",
       "    </tr>\n",
       "  </tbody>\n",
       "</table>\n",
       "<p>255 rows × 8 columns</p>\n",
       "</div>"
      ],
      "text/plain": [
       "                                                 confirmed        deaths       \\\n",
       "                                                       min    max    min  max   \n",
       "admin2   fips    location_geom                                                  \n",
       "Anderson 48001.0 POINT(-95.65354823 31.81534745)         0  10580      0  251   \n",
       "Andrews  48003.0 POINT(-102.6376548 32.30468633)         0   4699      0   73   \n",
       "Angelina 48005.0 POINT(-94.60901487 31.25457347)         0  16580      0  495   \n",
       "Aransas  48007.0 POINT(-96.9995047 28.10556197)          0   5218      0   93   \n",
       "Archer   48009.0 POINT(-98.68754589 33.61569967)         0   2511      0   29   \n",
       "...                                                    ...    ...    ...  ...   \n",
       "Wood     48499.0 POINT(-95.38236368 32.78722382)         0   9169      0  299   \n",
       "Yoakum   48501.0 POINT(-102.8276433 33.17320212)         0   1631      0   42   \n",
       "Young    48503.0 POINT(-98.68790885 33.17659707)         0   4309      0   96   \n",
       "Zapata   48505.0 POINT(-99.16987152 27.00156391)         0   4244      0   56   \n",
       "Zavala   48507.0 POINT(-99.76050829 28.86617238)         0   4406      0   70   \n",
       "\n",
       "                                                 recovered      active          \n",
       "                                                       min  max    min     max  \n",
       "admin2   fips    location_geom                                                  \n",
       "Anderson 48001.0 POINT(-95.65354823 31.81534745)       0.0  0.0    0.0  5967.0  \n",
       "Andrews  48003.0 POINT(-102.6376548 32.30468633)       0.0  0.0    0.0  1649.0  \n",
       "Angelina 48005.0 POINT(-94.60901487 31.25457347)       0.0  0.0    0.0  7727.0  \n",
       "Aransas  48007.0 POINT(-96.9995047 28.10556197)        0.0  0.0    0.0  1114.0  \n",
       "Archer   48009.0 POINT(-98.68754589 33.61569967)       0.0  0.0    0.0   766.0  \n",
       "...                                                    ...  ...    ...     ...  \n",
       "Wood     48499.0 POINT(-95.38236368 32.78722382)       0.0  0.0    0.0  3150.0  \n",
       "Yoakum   48501.0 POINT(-102.8276433 33.17320212)       0.0  0.0    0.0   838.0  \n",
       "Young    48503.0 POINT(-98.68790885 33.17659707)       0.0  0.0    0.0  2079.0  \n",
       "Zapata   48505.0 POINT(-99.16987152 27.00156391)       0.0  0.0    0.0  1712.0  \n",
       "Zavala   48507.0 POINT(-99.76050829 28.86617238)       0.0  0.0    0.0  1787.0  \n",
       "\n",
       "[255 rows x 8 columns]"
      ]
     },
     "metadata": {},
     "output_type": "display_data"
    }
   ],
   "source": [
    "# assignment rubics requirement, `mampu melakukan pengelompokan datam inimal 3 kelompok`\n",
    "display(df.groupby(['admin2', 'fips', 'location_geom'])[['confirmed', 'deaths', 'recovered', 'active']].agg(['min', 'max']))"
   ]
  },
  {
   "cell_type": "markdown",
   "metadata": {},
   "source": [
    "#### The data below shows some columns `recovered` and `active` have `NaN` value.\n",
    "\n",
    "**Options**:\n",
    "- [x] Replace `NaN` value with the previous entry, drop the row if no previous entry. **Summary: Jason chose this**. It takes 1m 6.8s to replace `NaN` value for row with column `admin2` == `Anderson` / or `579 * 2` entries.\n",
    "- [ ] Do not visualize the data after the first `NaN` value / remove every rows after the first `NaN` value. **Disadvantage: shorter line plot**\n",
    "- [ ] Remove every columns `recovered` and `active` that have `NaN` value. **Disadvantage: the line plot will have dotted line.**"
   ]
  },
  {
   "cell_type": "code",
   "execution_count": 48,
   "metadata": {},
   "outputs": [
    {
     "name": "stdout",
     "output_type": "stream",
     "text": [
      "<class 'pandas.core.frame.DataFrame'>\n",
      "RangeIndex: 233071 entries, 0 to 233070\n",
      "Data columns (total 13 columns):\n",
      " #   Column          Non-Null Count   Dtype  \n",
      "---  ------          --------------   -----  \n",
      " 0   province_state  233071 non-null  object \n",
      " 1   country_region  233071 non-null  object \n",
      " 2   date            233071 non-null  object \n",
      " 3   latitude        232173 non-null  float64\n",
      " 4   longitude       232173 non-null  float64\n",
      " 5   location_geom   232173 non-null  object \n",
      " 6   confirmed       233071 non-null  int64  \n",
      " 7   deaths          233071 non-null  int64  \n",
      " 8   recovered       85426 non-null   float64\n",
      " 9   active          85414 non-null   float64\n",
      " 10  fips            233057 non-null  float64\n",
      " 11  admin2          233059 non-null  object \n",
      " 12  combined_key    233059 non-null  object \n",
      "dtypes: float64(5), int64(2), object(6)\n",
      "memory usage: 23.1+ MB\n"
     ]
    },
    {
     "data": {
      "text/plain": [
       "None"
      ]
     },
     "metadata": {},
     "output_type": "display_data"
    }
   ],
   "source": [
    "display(df.info())"
   ]
  },
  {
   "cell_type": "markdown",
   "metadata": {},
   "source": [
    "#### Replace `NaN` value with the latest entry.\n",
    "\n",
    "The assumption is that the data source chose not to fill out the field after a while and then continue to fill the field at another time. So, it is worthile to replace `NaN` value with previous entry instead of deleting rows after the first `NaN` value.\n",
    "\n",
    "There are 233,059 entries, to shorten the analysis time, we will choose only entries with column `admin2` == `Anderson`. By coincidence, `Anderson` chose not to fill the `recovered` column from day one. The prove it, we will use `df2.describe()` to show that the **min** and **max** value for column `recovered` are `0.0`, which indicates that `Anderson` chose not to fill the columns."
   ]
  },
  {
   "cell_type": "code",
   "execution_count": 49,
   "metadata": {},
   "outputs": [
    {
     "data": {
      "text/plain": [
       "'column recovered min and max values are 0.0'"
      ]
     },
     "metadata": {},
     "output_type": "display_data"
    },
    {
     "data": {
      "text/html": [
       "<div>\n",
       "<style scoped>\n",
       "    .dataframe tbody tr th:only-of-type {\n",
       "        vertical-align: middle;\n",
       "    }\n",
       "\n",
       "    .dataframe tbody tr th {\n",
       "        vertical-align: top;\n",
       "    }\n",
       "\n",
       "    .dataframe thead th {\n",
       "        text-align: right;\n",
       "    }\n",
       "</style>\n",
       "<table border=\"1\" class=\"dataframe\">\n",
       "  <thead>\n",
       "    <tr style=\"text-align: right;\">\n",
       "      <th></th>\n",
       "      <th>confirmed</th>\n",
       "      <th>deaths</th>\n",
       "      <th>recovered</th>\n",
       "      <th>active</th>\n",
       "    </tr>\n",
       "  </thead>\n",
       "  <tbody>\n",
       "    <tr>\n",
       "      <th>count</th>\n",
       "      <td>929.000000</td>\n",
       "      <td>929.000000</td>\n",
       "      <td>350.0</td>\n",
       "      <td>350.000000</td>\n",
       "    </tr>\n",
       "    <tr>\n",
       "      <th>mean</th>\n",
       "      <td>6120.273412</td>\n",
       "      <td>131.844995</td>\n",
       "      <td>0.0</td>\n",
       "      <td>2540.625714</td>\n",
       "    </tr>\n",
       "    <tr>\n",
       "      <th>std</th>\n",
       "      <td>3265.327049</td>\n",
       "      <td>89.164475</td>\n",
       "      <td>0.0</td>\n",
       "      <td>1940.764898</td>\n",
       "    </tr>\n",
       "    <tr>\n",
       "      <th>min</th>\n",
       "      <td>0.000000</td>\n",
       "      <td>0.000000</td>\n",
       "      <td>0.0</td>\n",
       "      <td>0.000000</td>\n",
       "    </tr>\n",
       "    <tr>\n",
       "      <th>25%</th>\n",
       "      <td>3021.000000</td>\n",
       "      <td>41.000000</td>\n",
       "      <td>0.0</td>\n",
       "      <td>991.250000</td>\n",
       "    </tr>\n",
       "    <tr>\n",
       "      <th>50%</th>\n",
       "      <td>6240.000000</td>\n",
       "      <td>133.000000</td>\n",
       "      <td>0.0</td>\n",
       "      <td>2726.000000</td>\n",
       "    </tr>\n",
       "    <tr>\n",
       "      <th>75%</th>\n",
       "      <td>9445.000000</td>\n",
       "      <td>225.000000</td>\n",
       "      <td>0.0</td>\n",
       "      <td>3193.750000</td>\n",
       "    </tr>\n",
       "    <tr>\n",
       "      <th>max</th>\n",
       "      <td>10580.000000</td>\n",
       "      <td>251.000000</td>\n",
       "      <td>0.0</td>\n",
       "      <td>5967.000000</td>\n",
       "    </tr>\n",
       "  </tbody>\n",
       "</table>\n",
       "</div>"
      ],
      "text/plain": [
       "          confirmed      deaths  recovered       active\n",
       "count    929.000000  929.000000      350.0   350.000000\n",
       "mean    6120.273412  131.844995        0.0  2540.625714\n",
       "std     3265.327049   89.164475        0.0  1940.764898\n",
       "min        0.000000    0.000000        0.0     0.000000\n",
       "25%     3021.000000   41.000000        0.0   991.250000\n",
       "50%     6240.000000  133.000000        0.0  2726.000000\n",
       "75%     9445.000000  225.000000        0.0  3193.750000\n",
       "max    10580.000000  251.000000        0.0  5967.000000"
      ]
     },
     "metadata": {},
     "output_type": "display_data"
    },
    {
     "name": "stdout",
     "output_type": "stream",
     "text": [
      "<class 'pandas.core.frame.DataFrame'>\n",
      "Int64Index: 929 entries, 118548 to 93370\n",
      "Data columns (total 13 columns):\n",
      " #   Column          Non-Null Count  Dtype  \n",
      "---  ------          --------------  -----  \n",
      " 0   province_state  929 non-null    object \n",
      " 1   country_region  929 non-null    object \n",
      " 2   date            929 non-null    object \n",
      " 3   latitude        929 non-null    float64\n",
      " 4   longitude       929 non-null    float64\n",
      " 5   location_geom   929 non-null    object \n",
      " 6   confirmed       929 non-null    int64  \n",
      " 7   deaths          929 non-null    int64  \n",
      " 8   recovered       350 non-null    float64\n",
      " 9   active          350 non-null    float64\n",
      " 10  fips            929 non-null    float64\n",
      " 11  admin2          929 non-null    object \n",
      " 12  combined_key    929 non-null    object \n",
      "dtypes: float64(5), int64(2), object(6)\n",
      "memory usage: 101.6+ KB\n"
     ]
    },
    {
     "data": {
      "text/plain": [
       "'entries with column `admin2` == `Anderson` before replacing the NaN values in columns `recovered` and `active`'"
      ]
     },
     "metadata": {},
     "output_type": "display_data"
    },
    {
     "data": {
      "text/plain": [
       "None"
      ]
     },
     "metadata": {},
     "output_type": "display_data"
    },
    {
     "name": "stdout",
     "output_type": "stream",
     "text": [
      "<class 'pandas.core.frame.DataFrame'>\n",
      "Int64Index: 929 entries, 118548 to 93370\n",
      "Data columns (total 13 columns):\n",
      " #   Column          Non-Null Count  Dtype  \n",
      "---  ------          --------------  -----  \n",
      " 0   province_state  929 non-null    object \n",
      " 1   country_region  929 non-null    object \n",
      " 2   date            929 non-null    object \n",
      " 3   latitude        929 non-null    float64\n",
      " 4   longitude       929 non-null    float64\n",
      " 5   location_geom   929 non-null    object \n",
      " 6   confirmed       929 non-null    int64  \n",
      " 7   deaths          929 non-null    int64  \n",
      " 8   recovered       929 non-null    float64\n",
      " 9   active          929 non-null    float64\n",
      " 10  fips            929 non-null    float64\n",
      " 11  admin2          929 non-null    object \n",
      " 12  combined_key    929 non-null    object \n",
      "dtypes: float64(5), int64(2), object(6)\n",
      "memory usage: 101.6+ KB\n"
     ]
    },
    {
     "data": {
      "text/plain": [
       "'entries with column `admin2` == `Anderson` after replacing the NaN values in columns `recovered` and `active`'"
      ]
     },
     "metadata": {},
     "output_type": "display_data"
    },
    {
     "data": {
      "text/plain": [
       "None"
      ]
     },
     "metadata": {},
     "output_type": "display_data"
    }
   ],
   "source": [
    "df2 = df.sort_values(['admin2', 'date']).copy()\n",
    "\n",
    "display(\"column recovered min and max values are 0.0\", \n",
    "    df2.loc[df2['admin2'] == 'Anderson', ['confirmed','deaths','recovered','active']]\n",
    "       .describe())\n",
    "\n",
    "def findFirstInvalidLabelIndex(admin2: str, column: str) -> int:\n",
    "    \"\"\"\n",
    "    New knowledge:\n",
    "    df2.loc[df2['admin2'] == admin2] return a view\n",
    "    df2[df2['admin2] == admin2] return a copy\n",
    "    \"\"\"\n",
    "    # A -> findFirstInvalidLabelIndex() and firstFirstValidLabelIndex()\n",
    "    # B\n",
    "    index = df2.loc[df2['admin2'] == admin2, column].isna().idxmax()\n",
    "    if index == findFirstValidLabelIndex(admin2, column):\n",
    "        return -1\n",
    "    return index\n",
    "\n",
    "def findFirstValidLabelIndex(admin2: str, column: str) -> int | None:\n",
    "    return df2.loc[df2['admin2'] == admin2, column].first_valid_index()\n",
    "\n",
    "def findLastValidLabelIndex(admin2: str, column: str) -> int | None:\n",
    "    return df2.loc[df2['admin2'] == admin2, column].last_valid_index()\n",
    "\n",
    "def replaceFirstInvalidIndexWithValidIndex(admin2: str, column: str):\n",
    "    \"\"\"\n",
    "    New knolwedge:\n",
    "    df2.loc[firstInvalidIndex][column] is a copy.\n",
    "    It's called `chained indexing`, it is not guaranteed to work.\n",
    "    df2.loc[firstInvalidIndex, column] is a view.\n",
    "    \"\"\"\n",
    "    firstInvalidLabelIndex = findFirstInvalidLabelIndex(admin2, column)\n",
    "    if firstInvalidLabelIndex == -1:\n",
    "        return\n",
    "\n",
    "    firstValidLabelIndex = findFirstValidLabelIndex(admin2, column)\n",
    "    if firstValidLabelIndex == None:\n",
    "        return\n",
    "\n",
    "    lastValidLabelIndex = findLastValidLabelIndex(admin2, column)\n",
    "    if lastValidLabelIndex == None:\n",
    "        return\n",
    "    \n",
    "    global df2\n",
    "    # scenario 1:\n",
    "    # NaN -> drop\n",
    "    # A\n",
    "    # NaN\n",
    "    if df2.index.get_loc(firstInvalidLabelIndex) < \\\n",
    "            df2.index.get_loc(firstValidLabelIndex):\n",
    "        df2 = df2.drop(labels=firstInvalidLabelIndex)\n",
    "        return\n",
    "    # scenario 2:\n",
    "    # A\n",
    "    # NaN -> assign A\n",
    "    # B\n",
    "    # NaN -> assign B\n",
    "    if df2.index.get_loc(firstInvalidLabelIndex) > \\\n",
    "            df2.index.get_loc(firstValidLabelIndex):\n",
    "        # scenario 3:\n",
    "        # A   -> firstValidLabelIndex\n",
    "        # A\n",
    "        # B   -> lastValidLabelIndex\n",
    "        # NaN -> firstInvalidLabelIndex\n",
    "        if df2.index.get_loc(lastValidLabelIndex) != 0:\n",
    "            df2.loc[firstInvalidLabelIndex, column] = df2.loc[lastValidLabelIndex, column]\n",
    "            return\n",
    "        # scenario 2: ...\n",
    "        df2.loc[firstInvalidLabelIndex, column] = df2.loc[firstValidLabelIndex, column]\n",
    "        return\n",
    "\n",
    "display(\"entries with column `admin2` == `Anderson` before replacing the NaN values in columns `recovered` and `active`\", \n",
    "    df2.loc[df['admin2'] == 'Anderson'].info())\n",
    "\n",
    "# for admin in df2.groupby('admin2').groups.keys():\n",
    "for admin in ['Anderson']:\n",
    "    for column in ['recovered', 'active']:\n",
    "        while findFirstInvalidLabelIndex('Anderson', column) != -1:\n",
    "            replaceFirstInvalidIndexWithValidIndex('Anderson', column)\n",
    "\n",
    "display(\"entries with column `admin2` == `Anderson` after replacing the NaN values in columns `recovered` and `active`\", \n",
    "    df2.loc[df['admin2'] == 'Anderson'].info())"
   ]
  },
  {
   "cell_type": "markdown",
   "metadata": {},
   "source": [
    "### Explorasi Data\n",
    "\n",
    "1. The Line Chart shows that `Anderson, Texas, US` has a trend of increaasing confirmed covid cases from 2020-03-22 to 2022-05-31. [Answer](#plot-confirmed-and-active)\n",
    "2. `Anderson, Texas, US` stopped to fill the column `recovered` from day one with value `0.0` and later `NaN` value starting from 2021-03-07 [Answer](#when-does-column-admin2--anderson-stop-filling-the-column-recovered). \n",
    "3. and column `active` starting from 2021-03-07 [Answer](#when-does-column-admin2--anderson-stop-filling-the-column-active)"
   ]
  },
  {
   "cell_type": "markdown",
   "metadata": {},
   "source": [
    "#### Anderson's Overview\n",
    "\n",
    "##### Plot `deaths` and `recovered`\n",
    "1. The line plot below with legend `deaths` and `recovered` is to compare whether patients recovered or died due to Covid-19. However, as explained before, no data source fill the column `recovered`. So, we can't compare it.\n",
    "2. To understand whether `Anderson` county failed to treat Covid-19 patients, we will compare it with plot `deaths` and `the difference between confirmed - active`."
   ]
  },
  {
   "cell_type": "code",
   "execution_count": 50,
   "metadata": {},
   "outputs": [
    {
     "data": {
      "text/plain": [
       "'first attempt to determine whether Anderson county failed to treat Covid-19 patients'"
      ]
     },
     "metadata": {},
     "output_type": "display_data"
    },
    {
     "data": {
      "text/plain": [
       "<matplotlib.legend.Legend at 0x178871000>"
      ]
     },
     "metadata": {},
     "output_type": "display_data"
    },
    {
     "data": {
      "image/png": "[encoded data removed]",
      "text/plain": [
       "<Figure size 640x480 with 1 Axes>"
      ]
     },
     "metadata": {},
     "output_type": "display_data"
    }
   ],
   "source": [
    "display(\"first attempt to determine whether Anderson county failed to treat Covid-19 patients\", \n",
    "        df2.loc[df2['admin2'] == 'Anderson']\n",
    "           .groupby('date')[['deaths', 'recovered']]\n",
    "           .sum()\n",
    "           .plot()\n",
    "           .legend())"
   ]
  },
  {
   "cell_type": "code",
   "execution_count": 51,
   "metadata": {},
   "outputs": [
    {
     "data": {
      "text/plain": [
       "'second attempt to compare it by manually calculating the difference between confirmed and active value to determine the recovered value'"
      ]
     },
     "metadata": {},
     "output_type": "display_data"
    },
    {
     "data": {
      "text/plain": [
       "<matplotlib.legend.Legend at 0x137a31e70>"
      ]
     },
     "metadata": {},
     "output_type": "display_data"
    },
    {
     "data": {
      "image/png": "[encoded data removed]",
      "text/plain": [
       "<Figure size 640x480 with 1 Axes>"
      ]
     },
     "metadata": {},
     "output_type": "display_data"
    }
   ],
   "source": [
    "temp_df2 = df2.loc[df2['admin2'] == 'Anderson'].copy()\n",
    "\n",
    "temp_df2['diff confirmed - active - deaths'] = temp_df2['confirmed'] - temp_df2['active'] - temp_df2['deaths']\n",
    "\n",
    "display(\"second attempt to compare it by manually calculating the difference between confirmed and active value to determine the recovered value\", \n",
    "        temp_df2.groupby('date')[['deaths', 'diff confirmed - active - deaths']]\n",
    "                .sum()\n",
    "                .plot()\n",
    "                .legend(['deaths', 'recovered']))\n",
    "\n",
    "%reset_selective -f \"^temp_df2$\""
   ]
  },
  {
   "cell_type": "markdown",
   "metadata": {},
   "source": [
    "##### Plot `confirmed` and `active`\n",
    "\n",
    "1. The line plot below with legend `confirmed` and `active` is to compare whether `Anderson` county is recovering from the pandemic.\n",
    "2. The line `active` have a straight line starting from `2021-03-07`. This is because of the data source decision not to fill the column `active`."
   ]
  },
  {
   "cell_type": "code",
   "execution_count": 52,
   "metadata": {},
   "outputs": [
    {
     "data": {
      "text/plain": [
       "<matplotlib.legend.Legend at 0x176d8d1b0>"
      ]
     },
     "metadata": {},
     "output_type": "display_data"
    },
    {
     "data": {
      "image/png": "[encoded data removed]",
      "text/plain": [
       "<Figure size 640x480 with 1 Axes>"
      ]
     },
     "metadata": {},
     "output_type": "display_data"
    }
   ],
   "source": [
    "display(df2.loc[df2['admin2'] == 'Anderson']\n",
    "           .groupby('date')[['confirmed','active']]\n",
    "           .sum()\n",
    "           .plot()\n",
    "           .legend())"
   ]
  },
  {
   "cell_type": "markdown",
   "metadata": {},
   "source": [
    "#### When does column `admin2` == `Anderson` stop filling the column `recovered`?\n",
    "\n",
    "1. column `admin2` == `Anderson` stopped filling the column `recovered` starting from `2021-03-07`.\n",
    "2. There are column `recovered` with `Non-NaN` value after `2021-03-07`."
   ]
  },
  {
   "cell_type": "code",
   "execution_count": 53,
   "metadata": {},
   "outputs": [
    {
     "data": {
      "text/plain": [
       "'first row column recovered with NaN value'"
      ]
     },
     "metadata": {},
     "output_type": "display_data"
    },
    {
     "data": {
      "text/plain": [
       "province_state                              Texas\n",
       "country_region                                 US\n",
       "date                                   2021-03-07\n",
       "latitude                                31.815347\n",
       "longitude                              -95.653548\n",
       "location_geom     POINT(-95.65354823 31.81534745)\n",
       "confirmed                                    6073\n",
       "deaths                                        109\n",
       "recovered                                     NaN\n",
       "active                                        NaN\n",
       "fips                                      48001.0\n",
       "admin2                                   Anderson\n",
       "combined_key                  Anderson, Texas, US\n",
       "Name: 77138, dtype: object"
      ]
     },
     "metadata": {},
     "output_type": "display_data"
    },
    {
     "name": "stdout",
     "output_type": "stream",
     "text": [
      "in column recovered, there are non-NaN value after the first label index with NaN value: False\n"
     ]
    }
   ],
   "source": [
    "temp_df = df.sort_values(['admin2', 'date']).copy()\n",
    "temp_firstInvalidLabelIndex = temp_df.loc[temp_df['admin2'] == 'Anderson', 'recovered'] \\\n",
    "                                     .isna() \\\n",
    "                                     .idxmax()\n",
    "# calling DataFrame.index will return the label indexes.\n",
    "# calling index -1, will return the last index.\n",
    "temp_lastLabelIndex = temp_df.loc[temp_df['admin2'] == 'Anderson'].tail().index[-1]\n",
    "\n",
    "display(\"first row column recovered with NaN value\", \n",
    "       # calling `temp_df.loc[ label index ]` to display the row instead of only displaying the label index.\n",
    "       temp_df.loc[temp_firstInvalidLabelIndex])\n",
    "print(\"in column recovered, there are non-NaN value after the first label index with NaN value:\", \n",
    "       # calling `temp_df.loc[ ... : ... ]` will return the DafaFrame between the label index.\n",
    "        temp_df.loc[temp_firstInvalidLabelIndex:temp_lastLabelIndex,'recovered']\n",
    "               .notna()\n",
    "               .any())"
   ]
  },
  {
   "cell_type": "markdown",
   "metadata": {},
   "source": [
    "#### When does column `admin2` == `Anderson` stop filling the column `active`?"
   ]
  },
  {
   "cell_type": "code",
   "execution_count": 54,
   "metadata": {},
   "outputs": [
    {
     "data": {
      "text/plain": [
       "'first row column active with NaN value'"
      ]
     },
     "metadata": {},
     "output_type": "display_data"
    },
    {
     "data": {
      "text/plain": [
       "province_state                              Texas\n",
       "country_region                                 US\n",
       "date                                   2021-03-07\n",
       "latitude                                31.815347\n",
       "longitude                              -95.653548\n",
       "location_geom     POINT(-95.65354823 31.81534745)\n",
       "confirmed                                    6073\n",
       "deaths                                        109\n",
       "recovered                                     NaN\n",
       "active                                        NaN\n",
       "fips                                      48001.0\n",
       "admin2                                   Anderson\n",
       "combined_key                  Anderson, Texas, US\n",
       "Name: 77138, dtype: object"
      ]
     },
     "metadata": {},
     "output_type": "display_data"
    },
    {
     "name": "stdout",
     "output_type": "stream",
     "text": [
      "in column active, there are non-NaN value after the first label index with NaN value: False\n"
     ]
    }
   ],
   "source": [
    "temp_firstInvalidLabelIndex = temp_df.loc[temp_df['admin2'] == 'Anderson', 'active'] \\\n",
    "                                     .isna() \\\n",
    "                                     .idxmax()\n",
    "# calling DataFrame.index will return the label indexes.\n",
    "# calling index -1, will return the last index.\n",
    "temp_lastLabelIndex = temp_df.loc[temp_df['admin2'] == 'Anderson'].tail().index[-1]\n",
    "\n",
    "display(\"first row column active with NaN value\", \n",
    "       # calling `temp_df.loc[ label index ]` to display the row instead of only displaying the label index.\n",
    "       temp_df.loc[temp_firstInvalidLabelIndex])\n",
    "print(\"in column active, there are non-NaN value after the first label index with NaN value:\", \n",
    "       # calling `temp_df.loc[ ... : ... ]` will return the DafaFrame between the label index.\n",
    "        temp_df.loc[temp_firstInvalidLabelIndex:temp_lastLabelIndex,'active']\n",
    "               .notna()\n",
    "               .any())"
   ]
  },
  {
   "cell_type": "markdown",
   "metadata": {},
   "source": [
    "## Conclusions, Assumptions, Overall Analysis\n",
    "\n",
    "1. There are consensus between data source in `Texas, US` not to input the column `recovered`. Probably due to beliefs that on how the data will be used. However, we can solve this issue by manually calculating the difference between column `confirmed`, `active` and `deaths`.\n",
    "2. `Anderson` county is successful to prevent `deaths` due to the pandemic. This is shown by the [line plot `deaths` and `recovered`](#plot-deaths-and-recovered)\n",
    "3. `Anderson` county is not recovering from the pandemic. This is shown by the [line plot `confirmed` and `active`](#plot-confirmed-and-active), it does not decrease by the end of the line plot."
   ]
  }
 ],
 "metadata": {
  "kernelspec": {
   "display_name": "Python 3.10.7 64-bit",
   "language": "python",
   "name": "python3"
  },
  "language_info": {
   "codemirror_mode": {
    "name": "ipython",
    "version": 3
   },
   "file_extension": ".py",
   "mimetype": "text/x-python",
   "name": "python",
   "nbconvert_exporter": "python",
   "pygments_lexer": "ipython3",
   "version": "3.10.7"
  },
  "orig_nbformat": 4,
  "vscode": {
   "interpreter": {
    "hash": "aee8b7b246df8f9039afb4144a1f6fd8d2ca17a180786b69acc140d282b71a49"
   }
  }
 },
 "nbformat": 4,
 "nbformat_minor": 2
}
